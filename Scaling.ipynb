{
 "cells": [
  {
   "cell_type": "code",
   "execution_count": null,
   "metadata": {
    "collapsed": true
   },
   "outputs": [],
   "source": [
    "## Scaling configuration\n"
   ]
  },
  {
   "cell_type": "code",
   "execution_count": 54,
   "metadata": {},
   "outputs": [
    {
     "data": {
      "text/plain": [
       "<matplotlib.axes._subplots.AxesSubplot at 0x7fbef1007278>"
      ]
     },
     "execution_count": 54,
     "metadata": {},
     "output_type": "execute_result"
    },
    {
     "data": {
      "image/png": "[encoded data removed]",
      "text/plain": [
       "<matplotlib.figure.Figure at 0x7fbef1000048>"
      ]
     },
     "metadata": {},
     "output_type": "display_data"
    }
   ],
   "source": [
    "%matplotlib inline\n",
    "\n",
    "import subprocess\n",
    "import json\n",
    "import os\n",
    "import pandas\n",
    "\n",
    "\n",
    "def calculate_scaling(scenarios, timeout=10):\n",
    "    serialized = json.dumps(scenarios)\n",
    "        \n",
    "    args = ['./node_modules/.bin/coffee', 'scaletests.coffee']\n",
    "    try:\n",
    "        stdout = subprocess.check_output(args, input=serialized,\n",
    "                                         encoding='utf-8', timeout=timeout, stderr=subprocess.STDOUT)\n",
    "    except Exception as e:\n",
    "        raise e\n",
    "\n",
    "    try:\n",
    "        results = json.loads(stdout)\n",
    "    except Exception as e:\n",
    "        print('Could not parse stdout', std)\n",
    "    \n",
    "    return results\n",
    "\n",
    "def config(role='*', **kwargs):\n",
    "    roleconfig = kwargs\n",
    "    c = { role: roleconfig }\n",
    "    return c\n",
    "\n",
    "\n",
    "base = {\n",
    "    'role': 'test',\n",
    "    'config': config('test', minimum=0, maximum=20, processing=2, deadline=10),\n",
    "    'messages': -1,\n",
    "}\n",
    "\n",
    "def merged_dict(a, b):\n",
    "    d = a.copy()\n",
    "    d.update(b)\n",
    "    return d\n",
    "\n",
    "messages = range(0, 50)\n",
    "scenarios = [ merged_dict(base, { 'messages': m }) for m in messages ]\n",
    "\n",
    "res = calculate_scaling(scenarios)\n",
    "\n",
    "df = pandas.DataFrame({\n",
    "    'messages': [s['messages'] for s in scenarios],\n",
    "    'workers': [ r for r in res],\n",
    "})\n",
    "df.plot(x='messages')"
   ]
  },
  {
   "cell_type": "code",
   "execution_count": null,
   "metadata": {
    "collapsed": true
   },
   "outputs": [],
   "source": []
  }
 ],
 "metadata": {
  "kernelspec": {
   "display_name": "Python 3",
   "language": "python",
   "name": "python3"
  },
  "language_info": {
   "codemirror_mode": {
    "name": "ipython",
    "version": 3
   },
   "file_extension": ".py",
   "mimetype": "text/x-python",
   "name": "python",
   "nbconvert_exporter": "python",
   "pygments_lexer": "ipython3",
   "version": "3.6.2"
  }
 },
 "nbformat": 4,
 "nbformat_minor": 2
}
